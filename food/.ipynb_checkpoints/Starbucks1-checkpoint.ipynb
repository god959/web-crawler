{
 "cells": [
  {
   "cell_type": "code",
   "execution_count": 22,
   "metadata": {},
   "outputs": [
    {
     "data": {
      "text/html": [
       "<div>\n",
       "<style scoped>\n",
       "    .dataframe tbody tr th:only-of-type {\n",
       "        vertical-align: middle;\n",
       "    }\n",
       "\n",
       "    .dataframe tbody tr th {\n",
       "        vertical-align: top;\n",
       "    }\n",
       "\n",
       "    .dataframe thead th {\n",
       "        text-align: right;\n",
       "    }\n",
       "</style>\n",
       "<table border=\"1\" class=\"dataframe\">\n",
       "  <thead>\n",
       "    <tr style=\"text-align: right;\">\n",
       "      <th></th>\n",
       "      <th>0</th>\n",
       "      <th>1</th>\n",
       "    </tr>\n",
       "  </thead>\n",
       "  <tbody>\n",
       "    <tr>\n",
       "      <td>0</td>\n",
       "      <td>價格</td>\n",
       "      <td>$480</td>\n",
       "    </tr>\n",
       "    <tr>\n",
       "      <td>1</td>\n",
       "      <td>重量(公克)</td>\n",
       "      <td>450</td>\n",
       "    </tr>\n",
       "    <tr>\n",
       "      <td>2</td>\n",
       "      <td>熱量(大卡)</td>\n",
       "      <td>1616</td>\n",
       "    </tr>\n",
       "    <tr>\n",
       "      <td>3</td>\n",
       "      <td>蛋白質(公克)</td>\n",
       "      <td>29.2</td>\n",
       "    </tr>\n",
       "    <tr>\n",
       "      <td>4</td>\n",
       "      <td>脂肪(公克)</td>\n",
       "      <td>99.9</td>\n",
       "    </tr>\n",
       "    <tr>\n",
       "      <td>5</td>\n",
       "      <td>飽和脂肪(公克)</td>\n",
       "      <td>46.4</td>\n",
       "    </tr>\n",
       "    <tr>\n",
       "      <td>6</td>\n",
       "      <td>反式脂肪(公克)</td>\n",
       "      <td>0.4</td>\n",
       "    </tr>\n",
       "    <tr>\n",
       "      <td>7</td>\n",
       "      <td>碳水化合物(公克)</td>\n",
       "      <td>149.4</td>\n",
       "    </tr>\n",
       "    <tr>\n",
       "      <td>8</td>\n",
       "      <td>糖(公克)</td>\n",
       "      <td>96.8</td>\n",
       "    </tr>\n",
       "    <tr>\n",
       "      <td>9</td>\n",
       "      <td>鈉(毫克)</td>\n",
       "      <td>220</td>\n",
       "    </tr>\n",
       "  </tbody>\n",
       "</table>\n",
       "</div>"
      ],
      "text/plain": [
       "           0      1\n",
       "0         價格   $480\n",
       "1     重量(公克)    450\n",
       "2     熱量(大卡)   1616\n",
       "3    蛋白質(公克)   29.2\n",
       "4     脂肪(公克)   99.9\n",
       "5   飽和脂肪(公克)   46.4\n",
       "6   反式脂肪(公克)    0.4\n",
       "7  碳水化合物(公克)  149.4\n",
       "8      糖(公克)   96.8\n",
       "9      鈉(毫克)    220"
      ]
     },
     "execution_count": 22,
     "metadata": {},
     "output_type": "execute_result"
    }
   ],
   "source": [
    "import pandas as pd\n",
    "from urllib.request import urlopen\n",
    "from bs4 import BeautifulSoup\n",
    "df = pd.read_html(\"https://www.starbucks.com.tw/products/food/product.jspx?id=122\")\n",
    "df[0]\n"
   ]
  },
  {
   "cell_type": "code",
   "execution_count": 23,
   "metadata": {},
   "outputs": [
    {
     "data": {
      "text/html": [
       "<div>\n",
       "<style scoped>\n",
       "    .dataframe tbody tr th:only-of-type {\n",
       "        vertical-align: middle;\n",
       "    }\n",
       "\n",
       "    .dataframe tbody tr th {\n",
       "        vertical-align: top;\n",
       "    }\n",
       "\n",
       "    .dataframe thead th {\n",
       "        text-align: right;\n",
       "    }\n",
       "</style>\n",
       "<table border=\"1\" class=\"dataframe\">\n",
       "  <thead>\n",
       "    <tr style=\"text-align: right;\">\n",
       "      <th></th>\n",
       "      <th>0</th>\n",
       "      <th>1</th>\n",
       "      <th>2</th>\n",
       "      <th>3</th>\n",
       "      <th>4</th>\n",
       "      <th>5</th>\n",
       "      <th>6</th>\n",
       "      <th>7</th>\n",
       "      <th>8</th>\n",
       "      <th>9</th>\n",
       "    </tr>\n",
       "  </thead>\n",
       "  <tbody>\n",
       "    <tr>\n",
       "      <td>0</td>\n",
       "      <td>價格</td>\n",
       "      <td>重量(公克)</td>\n",
       "      <td>熱量(大卡)</td>\n",
       "      <td>蛋白質(公克)</td>\n",
       "      <td>脂肪(公克)</td>\n",
       "      <td>飽和脂肪(公克)</td>\n",
       "      <td>反式脂肪(公克)</td>\n",
       "      <td>碳水化合物(公克)</td>\n",
       "      <td>糖(公克)</td>\n",
       "      <td>鈉(毫克)</td>\n",
       "    </tr>\n",
       "    <tr>\n",
       "      <td>1</td>\n",
       "      <td>$480</td>\n",
       "      <td>450</td>\n",
       "      <td>1616</td>\n",
       "      <td>29.2</td>\n",
       "      <td>99.9</td>\n",
       "      <td>46.4</td>\n",
       "      <td>0.4</td>\n",
       "      <td>149.4</td>\n",
       "      <td>96.8</td>\n",
       "      <td>220</td>\n",
       "    </tr>\n",
       "  </tbody>\n",
       "</table>\n",
       "</div>"
      ],
      "text/plain": [
       "      0       1       2        3       4         5         6          7  \\\n",
       "0    價格  重量(公克)  熱量(大卡)  蛋白質(公克)  脂肪(公克)  飽和脂肪(公克)  反式脂肪(公克)  碳水化合物(公克)   \n",
       "1  $480     450    1616     29.2    99.9      46.4       0.4      149.4   \n",
       "\n",
       "       8      9  \n",
       "0  糖(公克)  鈉(毫克)  \n",
       "1   96.8    220  "
      ]
     },
     "execution_count": 23,
     "metadata": {},
     "output_type": "execute_result"
    }
   ],
   "source": [
    "df1 = df[0].T\n",
    "df1"
   ]
  },
  {
   "cell_type": "code",
   "execution_count": 24,
   "metadata": {},
   "outputs": [
    {
     "data": {
      "text/html": [
       "<div>\n",
       "<style scoped>\n",
       "    .dataframe tbody tr th:only-of-type {\n",
       "        vertical-align: middle;\n",
       "    }\n",
       "\n",
       "    .dataframe tbody tr th {\n",
       "        vertical-align: top;\n",
       "    }\n",
       "\n",
       "    .dataframe thead th {\n",
       "        text-align: right;\n",
       "    }\n",
       "</style>\n",
       "<table border=\"1\" class=\"dataframe\">\n",
       "  <thead>\n",
       "    <tr style=\"text-align: right;\">\n",
       "      <th></th>\n",
       "      <th>價格</th>\n",
       "      <th>重量(公克)</th>\n",
       "      <th>熱量(大卡)</th>\n",
       "      <th>蛋白質(公克)</th>\n",
       "      <th>脂肪(公克)</th>\n",
       "      <th>飽和脂肪(公克)</th>\n",
       "      <th>反式脂肪(公克)</th>\n",
       "      <th>碳水化合物(公克)</th>\n",
       "      <th>糖(公克)</th>\n",
       "      <th>鈉(毫克)</th>\n",
       "    </tr>\n",
       "  </thead>\n",
       "  <tbody>\n",
       "    <tr>\n",
       "      <td>1</td>\n",
       "      <td>$480</td>\n",
       "      <td>450</td>\n",
       "      <td>1616</td>\n",
       "      <td>29.2</td>\n",
       "      <td>99.9</td>\n",
       "      <td>46.4</td>\n",
       "      <td>0.4</td>\n",
       "      <td>149.4</td>\n",
       "      <td>96.8</td>\n",
       "      <td>220</td>\n",
       "    </tr>\n",
       "  </tbody>\n",
       "</table>\n",
       "</div>"
      ],
      "text/plain": [
       "0    價格 重量(公克) 熱量(大卡) 蛋白質(公克) 脂肪(公克) 飽和脂肪(公克) 反式脂肪(公克) 碳水化合物(公克) 糖(公克) 鈉(毫克)\n",
       "1  $480    450   1616    29.2   99.9     46.4      0.4     149.4  96.8   220"
      ]
     },
     "execution_count": 24,
     "metadata": {},
     "output_type": "execute_result"
    }
   ],
   "source": [
    "df1.columns = df1.iloc[0]\n",
    "df1.drop([0],inplace=True)\n",
    "df1"
   ]
  },
  {
   "cell_type": "code",
   "execution_count": 32,
   "metadata": {},
   "outputs": [
    {
     "data": {
      "text/html": [
       "<div>\n",
       "<style scoped>\n",
       "    .dataframe tbody tr th:only-of-type {\n",
       "        vertical-align: middle;\n",
       "    }\n",
       "\n",
       "    .dataframe tbody tr th {\n",
       "        vertical-align: top;\n",
       "    }\n",
       "\n",
       "    .dataframe thead th {\n",
       "        text-align: right;\n",
       "    }\n",
       "</style>\n",
       "<table border=\"1\" class=\"dataframe\">\n",
       "  <thead>\n",
       "    <tr style=\"text-align: right;\">\n",
       "      <th></th>\n",
       "      <th>重量(公克)</th>\n",
       "      <th>熱量(大卡)</th>\n",
       "      <th>蛋白質(公克)</th>\n",
       "      <th>脂肪(公克)</th>\n",
       "      <th>飽和脂肪(公克)</th>\n",
       "      <th>反式脂肪(公克)</th>\n",
       "      <th>碳水化合物(公克)</th>\n",
       "      <th>糖(公克)</th>\n",
       "      <th>鈉(毫克)</th>\n",
       "    </tr>\n",
       "  </thead>\n",
       "  <tbody>\n",
       "    <tr>\n",
       "      <td>1</td>\n",
       "      <td>450</td>\n",
       "      <td>1616</td>\n",
       "      <td>29.2</td>\n",
       "      <td>99.9</td>\n",
       "      <td>46.4</td>\n",
       "      <td>0.4</td>\n",
       "      <td>149.4</td>\n",
       "      <td>96.8</td>\n",
       "      <td>220</td>\n",
       "    </tr>\n",
       "  </tbody>\n",
       "</table>\n",
       "</div>"
      ],
      "text/plain": [
       "0 重量(公克) 熱量(大卡) 蛋白質(公克) 脂肪(公克) 飽和脂肪(公克) 反式脂肪(公克) 碳水化合物(公克) 糖(公克) 鈉(毫克)\n",
       "1    450   1616    29.2   99.9     46.4      0.4     149.4  96.8   220"
      ]
     },
     "execution_count": 32,
     "metadata": {},
     "output_type": "execute_result"
    }
   ],
   "source": [
    "df2 = df1.drop('價格',axis=1)\n",
    "df2"
   ]
  },
  {
   "cell_type": "code",
   "execution_count": 33,
   "metadata": {},
   "outputs": [],
   "source": [
    "r = urlopen('https://www.starbucks.com.tw/products/food/product.jspx?id=122')\n",
    "rl = BeautifulSoup(r)\n"
   ]
  },
  {
   "cell_type": "code",
   "execution_count": 34,
   "metadata": {},
   "outputs": [],
   "source": [
    "fn = rl.find(\"h1\", class_=\"title_cn\")\n"
   ]
  },
  {
   "cell_type": "code",
   "execution_count": 35,
   "metadata": {},
   "outputs": [
    {
     "data": {
      "text/plain": [
       "['長條咖啡巧克力松露蛋糕',\n",
       " 'Starbucks',\n",
       " 'https://www.starbucks.com.tw/home/index.jspx',\n",
       " '20190923',\n",
       " '一份']"
      ]
     },
     "execution_count": 35,
     "metadata": {},
     "output_type": "execute_result"
    }
   ],
   "source": [
    "df3 = df2['食物名'],df2['品牌'], df2['資料來源'], df2['更新時間'],df2['食用量'] = [fn.text,'Starbucks', 'https://www.starbucks.com.tw/home/index.jspx', '20190923','一份']\n",
    "df3"
   ]
  },
  {
   "cell_type": "code",
   "execution_count": 20,
   "metadata": {},
   "outputs": [
    {
     "ename": "AttributeError",
     "evalue": "'list' object has no attribute 'to_csv'",
     "output_type": "error",
     "traceback": [
      "\u001b[1;31m---------------------------------------------------------------------------\u001b[0m",
      "\u001b[1;31mAttributeError\u001b[0m                            Traceback (most recent call last)",
      "\u001b[1;32m<ipython-input-20-5de220457301>\u001b[0m in \u001b[0;36m<module>\u001b[1;34m\u001b[0m\n\u001b[1;32m----> 1\u001b[1;33m df3.to_csv(\"E:\\Python 3.7\\pyetl\\Demodb0103/food\\Starbucks1\\Starbucks.csv\"\n\u001b[0m\u001b[0;32m      2\u001b[0m                           , encoding=\"utf-8\", index=False)\n",
      "\u001b[1;31mAttributeError\u001b[0m: 'list' object has no attribute 'to_csv'"
     ]
    }
   ],
   "source": [
    " df3.to_csv(\"E:\\Python 3.7\\pyetl\\Demodb0103/food\\Starbucks1\\Starbucks.csv\"\n",
    "                           , encoding=\"utf-8\", index=False)"
   ]
  },
  {
   "cell_type": "code",
   "execution_count": 37,
   "metadata": {},
   "outputs": [],
   "source": [
    "df = pd.read_csv('E:\\Python 3.7\\pyetl\\Demodb0103/food\\Starbucks2\\Starbucks_z2.csv',encoding=\"utf_8\")"
   ]
  },
  {
   "cell_type": "code",
   "execution_count": null,
   "metadata": {},
   "outputs": [],
   "source": []
  }
 ],
 "metadata": {
  "kernelspec": {
   "display_name": "Python 3",
   "language": "python",
   "name": "python3"
  },
  "language_info": {
   "codemirror_mode": {
    "name": "ipython",
    "version": 3
   },
   "file_extension": ".py",
   "mimetype": "text/x-python",
   "name": "python",
   "nbconvert_exporter": "python",
   "pygments_lexer": "ipython3",
   "version": "3.7.0"
  }
 },
 "nbformat": 4,
 "nbformat_minor": 2
}
